{
 "cells": [
  {
   "cell_type": "markdown",
   "metadata": {},
   "source": [
    "# Practical 2: Page-Rank and K-score\n",
    "\n",
    "[Documentation for sparse matrices](https://docs.scipy.org/doc/scipy/reference/sparse.html)\n",
    "\n",
    "[Interesting resource](http://www.cs.cmu.edu/~elaw/pagerank.pdf)\n",
    "\n",
    "## 1. PageRank"
   ]
  },
  {
   "cell_type": "markdown",
   "metadata": {},
   "source": [
    "Coded in C (see file main_pagerank.c)"
   ]
  },
  {
   "cell_type": "markdown",
   "metadata": {},
   "source": [
    "# 2. K-core decomposition"
   ]
  },
  {
   "cell_type": "code",
   "execution_count": 33,
   "metadata": {},
   "outputs": [
    {
     "name": "stderr",
     "output_type": "stream",
     "text": [
      "100% (1005 of 1005) |####################| Elapsed Time: 0:00:00 Time:  0:00:00\n"
     ]
    }
   ],
   "source": [
    "progress = -1\n",
    "max_node = 1004 #found by looping through all edges, and recording max(source, target, max_node)\n",
    "nb_lines = 1005\n",
    "\n",
    "### Values to fill out the sparse matrix (one entry per line basically)\n",
    "### Fills up to 3Go of memory in my computer.\n",
    "import numpy as np\n",
    "sources = np.zeros(nb_lines, dtype=int)\n",
    "targets = np.zeros(nb_lines, dtype=int)\n",
    "links = np.ones(nb_lines)\n",
    "\n",
    "import progressbar #to monitor the file reading (takes 2min on my computer)\n",
    "with open(\"../TP1/email-Eu-core-department-labels_CLEAN.txt\", \"r\") as file:\n",
    "    for index, line in enumerate(progressbar.progressbar(file, max_value=nb_lines)): #iterates over \"file\" basically. Nothing more.\n",
    "        sources[index], targets[index] = map(int, line.strip(\"\\n\").split(\" \"))\n",
    "\n",
    "### Storing data as a sparse matrix (framework which performs classic operations only for non-0 elements faster)\n",
    "from scipy.sparse import coo_matrix, eye\n",
    "from scipy.sparse.linalg import norm\n",
    "M = coo_matrix((links, (sources, targets)), shape=(max_node+1, max_node+1)) #Adjacency Matrix"
   ]
  },
  {
   "cell_type": "code",
   "execution_count": 55,
   "metadata": {},
   "outputs": [],
   "source": [
    "#Inspired by https://networkx.github.io/documentation/latest/_modules/networkx/algorithms/core.html\n",
    "import numpy as np\n",
    "def core_number(M, sources, targets):\n",
    "    \"\"\"Returns the core number for each vertex.The core number of a node is the largest value k of a k-core containing\n",
    "    that node.\n",
    "\n",
    "    Parameters\n",
    "    ----------\n",
    "    M : adjacency matrix (scipy sparce COO format)\n",
    "    sources, targets: pairwise elements of the adjacency matrix provided as numpy arrays\n",
    "\n",
    "    Returns\n",
    "    -------\n",
    "    core_number : dictionary\n",
    "       A dictionary keyed by node to the core number.\n",
    "\n",
    "    References\n",
    "    ----------\n",
    "    .. [1] An O(m) Algorithm for Cores Decomposition of Networks\n",
    "       Vladimir Batagelj and Matjaz Zaversnik, 2003.\n",
    "       https://arxiv.org/abs/cs.DS/0310049\n",
    "    \"\"\"\n",
    "    ### Computing degrees\n",
    "    degrees = np.array(M.sum(axis=1).flatten().tolist()[0], dtype=int) + np.array(M.sum(axis=0).flatten().tolist()[0], dtype=int)\n",
    "    \n",
    "    ### Sorting nodes by degree\n",
    "    nodes = np.array([x for (y,x) in sorted(zip(degrees, np.arange(M.shape[0])))])\n",
    "    bin_boundaries = [0]\n",
    "    curr_degree = 0\n",
    "    for index, vertex in enumerate(nodes):\n",
    "        if degrees[vertex] > curr_degree:\n",
    "            bin_boundaries.extend([index] * (degrees[vertex] - curr_degree))\n",
    "            curr_degree = degrees[vertex]\n",
    "    node_pos = {vertex: position for position, vertex in enumerate(nodes)}\n",
    "    \n",
    "    ### Initializing core numbers as degree\n",
    "    core_numbers = degrees\n",
    "    neighbours = {vertex: list(targets[np.where(sources==vertex)]) + list(sources[np.where(targets==vertex)]) for vertex in nodes}\n",
    "    for vertex1 in nodes:\n",
    "        for vertex2 in neighbours[vertex1]:\n",
    "            if core_numbers[vertex2] > core_numbers[vertex1]:\n",
    "                neighbours[vertex2].remove(vertex1)\n",
    "                position = node_pos[vertex2]\n",
    "                bin_start = bin_boundaries[core_numbers[vertex2]]\n",
    "                node_pos[vertex2] = bin_start\n",
    "                node_pos[nodes[bin_start]] = position\n",
    "                nodes[bin_start], nodes[position] = nodes[position], nodes[bin_start]\n",
    "                bin_boundaries[core_numbers[vertex2]] += 1\n",
    "                core_numbers[vertex2] -= 1\n",
    "    return core_numbers"
   ]
  },
  {
   "cell_type": "code",
   "execution_count": 69,
   "metadata": {},
   "outputs": [
    {
     "name": "stdout",
     "output_type": "stream",
     "text": [
      "k-core decomposition done in 0.02s\n",
      "core value is 2\n"
     ]
    }
   ],
   "source": [
    "import time as time\n",
    "start_time = time.time()\n",
    "core_numbers = core_number(M, sources, targets)\n",
    "print(\"k-core decomposition done in {:.2f}s\".format(time.time()- start_time))\n",
    "\n",
    "### Core value of the graph\n",
    "print(\"core value is {}\".format(max(core_numbers)))"
   ]
  },
  {
   "cell_type": "code",
   "execution_count": null,
   "metadata": {},
   "outputs": [],
   "source": []
  }
 ],
 "metadata": {
  "kernelspec": {
   "display_name": "Python 3",
   "language": "python",
   "name": "python3"
  },
  "language_info": {
   "codemirror_mode": {
    "name": "ipython",
    "version": 3
   },
   "file_extension": ".py",
   "mimetype": "text/x-python",
   "name": "python",
   "nbconvert_exporter": "python",
   "pygments_lexer": "ipython3",
   "version": "3.6.4"
  }
 },
 "nbformat": 4,
 "nbformat_minor": 2
}
